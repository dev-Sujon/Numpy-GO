{
 "cells": [
  {
   "cell_type": "markdown",
   "id": "5a8c7e6e",
   "metadata": {},
   "source": [
    "## How to import NumPy\n",
    "\n",
    "Explanation about **How to import NumPy** goes here."
   ]
  },
  {
   "cell_type": "code",
   "execution_count": null,
   "id": "5aca6c24",
   "metadata": {},
   "outputs": [],
   "source": [
    "# Example code for: How to import NumPy"
   ]
  },
  {
   "cell_type": "markdown",
   "id": "b82459c4",
   "metadata": {},
   "source": [
    "## Reading the example code\n",
    "\n",
    "Explanation about **Reading the example code** goes here."
   ]
  },
  {
   "cell_type": "code",
   "execution_count": null,
   "id": "7849e920",
   "metadata": {},
   "outputs": [],
   "source": [
    "# Example code for: Reading the example code"
   ]
  },
  {
   "cell_type": "markdown",
   "id": "ad6081b4",
   "metadata": {},
   "source": [
    "## Why use NumPy?\n",
    "\n",
    "Explanation about **Why use NumPy?** goes here."
   ]
  },
  {
   "cell_type": "code",
   "execution_count": null,
   "id": "81292e5b",
   "metadata": {},
   "outputs": [],
   "source": [
    "# Example code for: Why use NumPy?"
   ]
  },
  {
   "cell_type": "markdown",
   "id": "179411b1",
   "metadata": {},
   "source": [
    "## What is an “array”?\n",
    "\n",
    "Explanation about **What is an “array”?** goes here."
   ]
  },
  {
   "cell_type": "code",
   "execution_count": null,
   "id": "bf56ad5c",
   "metadata": {},
   "outputs": [],
   "source": [
    "# Example code for: What is an “array”?"
   ]
  },
  {
   "cell_type": "markdown",
   "id": "5dc86763",
   "metadata": {},
   "source": [
    "## Array fundamentals\n",
    "\n",
    "Explanation about **Array fundamentals** goes here."
   ]
  },
  {
   "cell_type": "code",
   "execution_count": null,
   "id": "4f2b3259",
   "metadata": {},
   "outputs": [],
   "source": [
    "# Example code for: Array fundamentals"
   ]
  },
  {
   "cell_type": "markdown",
   "id": "82e47db4",
   "metadata": {},
   "source": [
    "## Array attributes\n",
    "\n",
    "Explanation about **Array attributes** goes here."
   ]
  },
  {
   "cell_type": "code",
   "execution_count": null,
   "id": "d39cbfc8",
   "metadata": {},
   "outputs": [],
   "source": [
    "# Example code for: Array attributes"
   ]
  },
  {
   "cell_type": "markdown",
   "id": "994a2593",
   "metadata": {},
   "source": [
    "## How to create a basic array\n",
    "\n",
    "Explanation about **How to create a basic array** goes here."
   ]
  },
  {
   "cell_type": "code",
   "execution_count": null,
   "id": "0e221e4b",
   "metadata": {},
   "outputs": [],
   "source": [
    "# Example code for: How to create a basic array"
   ]
  },
  {
   "cell_type": "markdown",
   "id": "c18d7e80",
   "metadata": {},
   "source": [
    "## Adding, removing, and sorting elements\n",
    "\n",
    "Explanation about **Adding, removing, and sorting elements** goes here."
   ]
  },
  {
   "cell_type": "code",
   "execution_count": null,
   "id": "549bc2f4",
   "metadata": {},
   "outputs": [],
   "source": [
    "# Example code for: Adding, removing, and sorting elements"
   ]
  },
  {
   "cell_type": "markdown",
   "id": "c3e726f1",
   "metadata": {},
   "source": [
    "## How do you know the shape and size of an array?\n",
    "\n",
    "Explanation about **How do you know the shape and size of an array?** goes here."
   ]
  },
  {
   "cell_type": "code",
   "execution_count": null,
   "id": "6f9625d5",
   "metadata": {},
   "outputs": [],
   "source": [
    "# Example code for: How do you know the shape and size of an array?"
   ]
  },
  {
   "cell_type": "markdown",
   "id": "9e52fa35",
   "metadata": {},
   "source": [
    "## Can you reshape an array?\n",
    "\n",
    "Explanation about **Can you reshape an array?** goes here."
   ]
  },
  {
   "cell_type": "code",
   "execution_count": null,
   "id": "f92e42a1",
   "metadata": {},
   "outputs": [],
   "source": [
    "# Example code for: Can you reshape an array?"
   ]
  },
  {
   "cell_type": "markdown",
   "id": "7d14b8cd",
   "metadata": {},
   "source": [
    "## How to convert a 1D array into a 2D array (how to add a new axis to an array)\n",
    "\n",
    "Explanation about **How to convert a 1D array into a 2D array (how to add a new axis to an array)** goes here."
   ]
  },
  {
   "cell_type": "code",
   "execution_count": null,
   "id": "0c45d57f",
   "metadata": {},
   "outputs": [],
   "source": [
    "# Example code for: How to convert a 1D array into a 2D array (how to add a new axis to an array)"
   ]
  },
  {
   "cell_type": "markdown",
   "id": "53e65f13",
   "metadata": {},
   "source": [
    "## Indexing and slicing\n",
    "\n",
    "Explanation about **Indexing and slicing** goes here."
   ]
  },
  {
   "cell_type": "code",
   "execution_count": null,
   "id": "427440aa",
   "metadata": {},
   "outputs": [],
   "source": [
    "# Example code for: Indexing and slicing"
   ]
  },
  {
   "cell_type": "markdown",
   "id": "224cfc3d",
   "metadata": {},
   "source": [
    "## How to create an array from existing data\n",
    "\n",
    "Explanation about **How to create an array from existing data** goes here."
   ]
  },
  {
   "cell_type": "code",
   "execution_count": null,
   "id": "43049b40",
   "metadata": {},
   "outputs": [],
   "source": [
    "# Example code for: How to create an array from existing data"
   ]
  },
  {
   "cell_type": "markdown",
   "id": "b5618390",
   "metadata": {},
   "source": [
    "## Basic array operations\n",
    "\n",
    "Explanation about **Basic array operations** goes here."
   ]
  },
  {
   "cell_type": "code",
   "execution_count": null,
   "id": "1ef710ce",
   "metadata": {},
   "outputs": [],
   "source": [
    "# Example code for: Basic array operations"
   ]
  },
  {
   "cell_type": "markdown",
   "id": "e15be6fa",
   "metadata": {},
   "source": [
    "## Broadcasting\n",
    "\n",
    "Explanation about **Broadcasting** goes here."
   ]
  },
  {
   "cell_type": "code",
   "execution_count": null,
   "id": "8f724dc6",
   "metadata": {},
   "outputs": [],
   "source": [
    "# Example code for: Broadcasting"
   ]
  },
  {
   "cell_type": "markdown",
   "id": "2f7c6686",
   "metadata": {},
   "source": [
    "## More useful array operations\n",
    "\n",
    "Explanation about **More useful array operations** goes here."
   ]
  },
  {
   "cell_type": "code",
   "execution_count": null,
   "id": "9080da6b",
   "metadata": {},
   "outputs": [],
   "source": [
    "# Example code for: More useful array operations"
   ]
  },
  {
   "cell_type": "markdown",
   "id": "65003e92",
   "metadata": {},
   "source": [
    "## Creating matrices\n",
    "\n",
    "Explanation about **Creating matrices** goes here."
   ]
  },
  {
   "cell_type": "code",
   "execution_count": null,
   "id": "1cffeae6",
   "metadata": {},
   "outputs": [],
   "source": [
    "# Example code for: Creating matrices"
   ]
  },
  {
   "cell_type": "markdown",
   "id": "81c866e9",
   "metadata": {},
   "source": [
    "## Generating random numbers\n",
    "\n",
    "Explanation about **Generating random numbers** goes here."
   ]
  },
  {
   "cell_type": "code",
   "execution_count": null,
   "id": "1923aa2d",
   "metadata": {},
   "outputs": [],
   "source": [
    "# Example code for: Generating random numbers"
   ]
  },
  {
   "cell_type": "markdown",
   "id": "e99cb1e1",
   "metadata": {},
   "source": [
    "## How to get unique items and counts\n",
    "\n",
    "Explanation about **How to get unique items and counts** goes here."
   ]
  },
  {
   "cell_type": "code",
   "execution_count": null,
   "id": "6d0b1a57",
   "metadata": {},
   "outputs": [],
   "source": [
    "# Example code for: How to get unique items and counts"
   ]
  },
  {
   "cell_type": "markdown",
   "id": "cf504f9e",
   "metadata": {},
   "source": [
    "## Transposing and reshaping a matrix\n",
    "\n",
    "Explanation about **Transposing and reshaping a matrix** goes here."
   ]
  },
  {
   "cell_type": "code",
   "execution_count": null,
   "id": "55099f5f",
   "metadata": {},
   "outputs": [],
   "source": [
    "# Example code for: Transposing and reshaping a matrix"
   ]
  },
  {
   "cell_type": "markdown",
   "id": "65cbf309",
   "metadata": {},
   "source": [
    "## How to reverse an array\n",
    "\n",
    "Explanation about **How to reverse an array** goes here."
   ]
  },
  {
   "cell_type": "code",
   "execution_count": null,
   "id": "4984474b",
   "metadata": {},
   "outputs": [],
   "source": [
    "# Example code for: How to reverse an array"
   ]
  },
  {
   "cell_type": "markdown",
   "id": "14d71dd2",
   "metadata": {},
   "source": [
    "## Reshaping and flattening multidimensional arrays\n",
    "\n",
    "Explanation about **Reshaping and flattening multidimensional arrays** goes here."
   ]
  },
  {
   "cell_type": "code",
   "execution_count": null,
   "id": "8534eb16",
   "metadata": {},
   "outputs": [],
   "source": [
    "# Example code for: Reshaping and flattening multidimensional arrays"
   ]
  },
  {
   "cell_type": "markdown",
   "id": "e1b39ffc",
   "metadata": {},
   "source": [
    "## How to access the docstring for more information\n",
    "\n",
    "Explanation about **How to access the docstring for more information** goes here."
   ]
  },
  {
   "cell_type": "code",
   "execution_count": null,
   "id": "2ad1a96c",
   "metadata": {},
   "outputs": [],
   "source": [
    "# Example code for: How to access the docstring for more information"
   ]
  },
  {
   "cell_type": "markdown",
   "id": "0eb6dee3",
   "metadata": {},
   "source": [
    "## Working with mathematical formulas\n",
    "\n",
    "Explanation about **Working with mathematical formulas** goes here."
   ]
  },
  {
   "cell_type": "code",
   "execution_count": null,
   "id": "a1ab8a8c",
   "metadata": {},
   "outputs": [],
   "source": [
    "# Example code for: Working with mathematical formulas"
   ]
  },
  {
   "cell_type": "markdown",
   "id": "18745762",
   "metadata": {},
   "source": [
    "## How to save and load NumPy objects\n",
    "\n",
    "Explanation about **How to save and load NumPy objects** goes here."
   ]
  },
  {
   "cell_type": "code",
   "execution_count": null,
   "id": "548bd0cf",
   "metadata": {},
   "outputs": [],
   "source": [
    "# Example code for: How to save and load NumPy objects"
   ]
  },
  {
   "cell_type": "markdown",
   "id": "4dbd912a",
   "metadata": {},
   "source": [
    "## Importing and exporting a CSV\n",
    "\n",
    "Explanation about **Importing and exporting a CSV** goes here."
   ]
  },
  {
   "cell_type": "code",
   "execution_count": null,
   "id": "4cf97e7e",
   "metadata": {},
   "outputs": [],
   "source": [
    "# Example code for: Importing and exporting a CSV"
   ]
  },
  {
   "cell_type": "markdown",
   "id": "01e55bbe",
   "metadata": {},
   "source": [
    "## Plotting arrays with Matplotlib\n",
    "\n",
    "Explanation about **Plotting arrays with Matplotlib** goes here."
   ]
  },
  {
   "cell_type": "code",
   "execution_count": null,
   "id": "477a3e46",
   "metadata": {},
   "outputs": [],
   "source": [
    "# Example code for: Plotting arrays with Matplotlib"
   ]
  }
 ],
 "metadata": {},
 "nbformat": 4,
 "nbformat_minor": 5
}
