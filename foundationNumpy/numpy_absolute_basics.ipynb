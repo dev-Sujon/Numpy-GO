{
 "cells": [
  {
   "cell_type": "markdown",
   "id": "3ead76ad-04ee-468f-b32d-25b6c66bf7c3",
   "metadata": {},
   "source": [
    "# Absulute Basics for Begineer"
   ]
  },
  {
   "cell_type": "markdown",
   "id": "5a8c7e6e",
   "metadata": {},
   "source": [
    "## How to import NumPy\n",
    "\n",
    "Explanation about **How to import NumPy** goes here."
   ]
  },
  {
   "cell_type": "code",
   "execution_count": 2,
   "id": "5aca6c24",
   "metadata": {},
   "outputs": [],
   "source": [
    "# Example code for: How to import NumPy\n",
    "import numpy as np\n",
    "import pandas as pd"
   ]
  },
  {
   "cell_type": "markdown",
   "id": "b82459c4",
   "metadata": {},
   "source": [
    "## Reading the example code\n",
    "\n",
    "Explanation about **Reading the example code** goes here."
   ]
  },
  {
   "cell_type": "code",
   "execution_count": 3,
   "id": "7849e920",
   "metadata": {},
   "outputs": [
    {
     "name": "stdout",
     "output_type": "stream",
     "text": [
      "[ 10 -10 100]\n"
     ]
    }
   ],
   "source": [
    "# Example code for: Reading the example code\n",
    "arr = np.array([10,-10,100])\n",
    "print(arr)"
   ]
  },
  {
   "cell_type": "code",
   "execution_count": 4,
   "id": "c4953ca2-20e8-44e3-895f-0a0e1ce1c6a3",
   "metadata": {},
   "outputs": [
    {
     "data": {
      "text/plain": [
       "array([[1, 0, 0],\n",
       "       [0, 1, 0],\n",
       "       [0, 0, 1]])"
      ]
     },
     "execution_count": 4,
     "metadata": {},
     "output_type": "execute_result"
    }
   ],
   "source": [
    "matrix = np.array([[1,0,0],[0,1,0],[0,0,1]])\n",
    "matrix"
   ]
  },
  {
   "cell_type": "code",
   "execution_count": 6,
   "id": "b71965e7-9b3e-4364-921c-296281674446",
   "metadata": {},
   "outputs": [
    {
     "data": {
      "text/plain": [
       "2"
      ]
     },
     "execution_count": 6,
     "metadata": {},
     "output_type": "execute_result"
    }
   ],
   "source": [
    "matrix.ndim"
   ]
  },
  {
   "cell_type": "code",
   "execution_count": null,
   "id": "52684cc3-a2e7-4c57-933a-ba3ce84e9218",
   "metadata": {},
   "outputs": [],
   "source": []
  },
  {
   "cell_type": "code",
   "execution_count": null,
   "id": "ecd3ef2e-9ab9-41fa-acfe-379fd8698543",
   "metadata": {},
   "outputs": [],
   "source": []
  },
  {
   "cell_type": "markdown",
   "id": "ad6081b4",
   "metadata": {},
   "source": [
    "## Why use NumPy?\n",
    "\n",
    "Explanation about **Why use NumPy?** goes here."
   ]
  },
  {
   "cell_type": "markdown",
   "id": "ca9ece39-ba60-45e8-8ffe-f00c54755a59",
   "metadata": {},
   "source": [
    "Python lists are excellent, general-purpose containers. They can be “heterogeneous”, meaning that they can contain elements of a variety of types, and they are quite fast when used to perform individual operations on a handful of elements.\n",
    "\n",
    "Depending on the characteristics of the data and the types of operations that need to be performed, other containers may be more appropriate; by exploiting these characteristics, we can improve speed, reduce memory consumption, and offer a high-level syntax for performing a variety of common processing tasks. NumPy shines when there are large quantities of “homogeneous” (same-type) data to be processed on the CPU."
   ]
  },
  {
   "cell_type": "markdown",
   "id": "179411b1",
   "metadata": {},
   "source": [
    "## What is an “array”?\n",
    "\n",
    "Explanation about **What is an “array”?** goes here."
   ]
  },
  {
   "cell_type": "markdown",
   "id": "6028362e-4c74-4938-a632-56722340a8e8",
   "metadata": {},
   "source": [
    "In computer programming, an array is a structure for storing and retrieving data. We often talk about an array as if it were a grid in space, with each cell storing one element of the data.\n",
    "Most NumPy arrays have some restrictions. For instance:\n",
    "1. All elements of the array must be of the same type of data.\n",
    "2. Once created, the total size of the array can’t change.\n",
    "3. The shape must be “rectangular”, not “jagged”; e.g., each row of a two-dimensional array must have the same number of columns."
   ]
  },
  {
   "cell_type": "markdown",
   "id": "5dc86763",
   "metadata": {},
   "source": [
    "## Array fundamentals\n",
    "\n",
    "Explanation about **Array fundamentals** goes here."
   ]
  },
  {
   "cell_type": "code",
   "execution_count": 7,
   "id": "4f2b3259",
   "metadata": {},
   "outputs": [
    {
     "data": {
      "text/plain": [
       "array([1, 2, 3, 4, 5, 6])"
      ]
     },
     "execution_count": 7,
     "metadata": {},
     "output_type": "execute_result"
    }
   ],
   "source": [
    "# Example code for: Array fundamentals\n",
    "a = np.array([1,2,3,4,5,6])\n",
    "a"
   ]
  },
  {
   "cell_type": "code",
   "execution_count": 8,
   "id": "7170a5bd-e897-4c0f-8663-20ce4efea0ce",
   "metadata": {},
   "outputs": [
    {
     "data": {
      "text/plain": [
       "array([1, 2, 3])"
      ]
     },
     "execution_count": 8,
     "metadata": {},
     "output_type": "execute_result"
    }
   ],
   "source": [
    "# indexing\n",
    "a[:3]"
   ]
  },
  {
   "cell_type": "code",
   "execution_count": 9,
   "id": "ad2f37ec-b787-478c-abb6-24d35ccd32d3",
   "metadata": {},
   "outputs": [
    {
     "data": {
      "text/plain": [
       "array([4, 5, 6])"
      ]
     },
     "execution_count": 9,
     "metadata": {},
     "output_type": "execute_result"
    }
   ],
   "source": [
    "b = a[3:]\n",
    "b"
   ]
  },
  {
   "cell_type": "code",
   "execution_count": 10,
   "id": "c284968f-adcf-4f41-849c-a08f478e738e",
   "metadata": {},
   "outputs": [
    {
     "data": {
      "text/plain": [
       "array([ 1,  2,  3, 40,  5,  6])"
      ]
     },
     "execution_count": 10,
     "metadata": {},
     "output_type": "execute_result"
    }
   ],
   "source": [
    "b[0] = 40\n",
    "a"
   ]
  },
  {
   "cell_type": "code",
   "execution_count": 13,
   "id": "9ee682f6-6e58-471b-a12c-93e92397e3f0",
   "metadata": {},
   "outputs": [
    {
     "data": {
      "text/plain": [
       "array([[ 1,  2,  3,  4],\n",
       "       [ 5,  6,  7,  8],\n",
       "       [ 9, 10, 11, 12]])"
      ]
     },
     "execution_count": 13,
     "metadata": {},
     "output_type": "execute_result"
    }
   ],
   "source": [
    "mat_a = np.array([[1, 2, 3, 4],[5, 6, 7, 8],[9, 10, 11, 12]])\n",
    "mat_a"
   ]
  },
  {
   "cell_type": "code",
   "execution_count": 17,
   "id": "0ae3b2e0-7ec8-4fcc-87d8-e2f69e645e7d",
   "metadata": {},
   "outputs": [
    {
     "data": {
      "text/plain": [
       "5"
      ]
     },
     "execution_count": 17,
     "metadata": {},
     "output_type": "execute_result"
    }
   ],
   "source": [
    "# mat_a[row,column]\n",
    "mat_a[1, 0]"
   ]
  },
  {
   "cell_type": "markdown",
   "id": "82e47db4",
   "metadata": {},
   "source": [
    "## Array attributes\n",
    "\n",
    "Explanation about **Array attributes** goes here."
   ]
  },
  {
   "cell_type": "code",
   "execution_count": null,
   "id": "d39cbfc8",
   "metadata": {},
   "outputs": [],
   "source": [
    "# Example code for: Array attributes"
   ]
  },
  {
   "cell_type": "markdown",
   "id": "994a2593",
   "metadata": {},
   "source": [
    "## How to create a basic array\n",
    "\n",
    "Explanation about **How to create a basic array** goes here."
   ]
  },
  {
   "cell_type": "code",
   "execution_count": null,
   "id": "0e221e4b",
   "metadata": {},
   "outputs": [],
   "source": [
    "# Example code for: How to create a basic array"
   ]
  },
  {
   "cell_type": "markdown",
   "id": "c18d7e80",
   "metadata": {},
   "source": [
    "## Adding, removing, and sorting elements\n",
    "\n",
    "Explanation about **Adding, removing, and sorting elements** goes here."
   ]
  },
  {
   "cell_type": "code",
   "execution_count": null,
   "id": "549bc2f4",
   "metadata": {},
   "outputs": [],
   "source": [
    "# Example code for: Adding, removing, and sorting elements"
   ]
  },
  {
   "cell_type": "markdown",
   "id": "c3e726f1",
   "metadata": {},
   "source": [
    "## How do you know the shape and size of an array?\n",
    "\n",
    "Explanation about **How do you know the shape and size of an array?** goes here."
   ]
  },
  {
   "cell_type": "code",
   "execution_count": null,
   "id": "6f9625d5",
   "metadata": {},
   "outputs": [],
   "source": [
    "# Example code for: How do you know the shape and size of an array?"
   ]
  },
  {
   "cell_type": "markdown",
   "id": "9e52fa35",
   "metadata": {},
   "source": [
    "## Can you reshape an array?\n",
    "\n",
    "Explanation about **Can you reshape an array?** goes here."
   ]
  },
  {
   "cell_type": "code",
   "execution_count": null,
   "id": "f92e42a1",
   "metadata": {},
   "outputs": [],
   "source": [
    "# Example code for: Can you reshape an array?"
   ]
  },
  {
   "cell_type": "markdown",
   "id": "7d14b8cd",
   "metadata": {},
   "source": [
    "## How to convert a 1D array into a 2D array (how to add a new axis to an array)\n",
    "\n",
    "Explanation about **How to convert a 1D array into a 2D array (how to add a new axis to an array)** goes here."
   ]
  },
  {
   "cell_type": "code",
   "execution_count": null,
   "id": "0c45d57f",
   "metadata": {},
   "outputs": [],
   "source": [
    "# Example code for: How to convert a 1D array into a 2D array (how to add a new axis to an array)"
   ]
  },
  {
   "cell_type": "markdown",
   "id": "53e65f13",
   "metadata": {},
   "source": [
    "## Indexing and slicing\n",
    "\n",
    "Explanation about **Indexing and slicing** goes here."
   ]
  },
  {
   "cell_type": "code",
   "execution_count": null,
   "id": "427440aa",
   "metadata": {},
   "outputs": [],
   "source": [
    "# Example code for: Indexing and slicing"
   ]
  },
  {
   "cell_type": "markdown",
   "id": "224cfc3d",
   "metadata": {},
   "source": [
    "## How to create an array from existing data\n",
    "\n",
    "Explanation about **How to create an array from existing data** goes here."
   ]
  },
  {
   "cell_type": "code",
   "execution_count": null,
   "id": "43049b40",
   "metadata": {},
   "outputs": [],
   "source": [
    "# Example code for: How to create an array from existing data"
   ]
  },
  {
   "cell_type": "markdown",
   "id": "b5618390",
   "metadata": {},
   "source": [
    "## Basic array operations\n",
    "\n",
    "Explanation about **Basic array operations** goes here."
   ]
  },
  {
   "cell_type": "code",
   "execution_count": null,
   "id": "1ef710ce",
   "metadata": {},
   "outputs": [],
   "source": [
    "# Example code for: Basic array operations"
   ]
  },
  {
   "cell_type": "markdown",
   "id": "e15be6fa",
   "metadata": {},
   "source": [
    "## Broadcasting\n",
    "\n",
    "Explanation about **Broadcasting** goes here."
   ]
  },
  {
   "cell_type": "code",
   "execution_count": null,
   "id": "8f724dc6",
   "metadata": {},
   "outputs": [],
   "source": [
    "# Example code for: Broadcasting"
   ]
  },
  {
   "cell_type": "markdown",
   "id": "2f7c6686",
   "metadata": {},
   "source": [
    "## More useful array operations\n",
    "\n",
    "Explanation about **More useful array operations** goes here."
   ]
  },
  {
   "cell_type": "code",
   "execution_count": null,
   "id": "9080da6b",
   "metadata": {},
   "outputs": [],
   "source": [
    "# Example code for: More useful array operations"
   ]
  },
  {
   "cell_type": "markdown",
   "id": "65003e92",
   "metadata": {},
   "source": [
    "## Creating matrices\n",
    "\n",
    "Explanation about **Creating matrices** goes here."
   ]
  },
  {
   "cell_type": "code",
   "execution_count": null,
   "id": "1cffeae6",
   "metadata": {},
   "outputs": [],
   "source": [
    "# Example code for: Creating matrices"
   ]
  },
  {
   "cell_type": "markdown",
   "id": "81c866e9",
   "metadata": {},
   "source": [
    "## Generating random numbers\n",
    "\n",
    "Explanation about **Generating random numbers** goes here."
   ]
  },
  {
   "cell_type": "code",
   "execution_count": null,
   "id": "1923aa2d",
   "metadata": {},
   "outputs": [],
   "source": [
    "# Example code for: Generating random numbers"
   ]
  },
  {
   "cell_type": "markdown",
   "id": "e99cb1e1",
   "metadata": {},
   "source": [
    "## How to get unique items and counts\n",
    "\n",
    "Explanation about **How to get unique items and counts** goes here."
   ]
  },
  {
   "cell_type": "code",
   "execution_count": null,
   "id": "6d0b1a57",
   "metadata": {},
   "outputs": [],
   "source": [
    "# Example code for: How to get unique items and counts"
   ]
  },
  {
   "cell_type": "markdown",
   "id": "cf504f9e",
   "metadata": {},
   "source": [
    "## Transposing and reshaping a matrix\n",
    "\n",
    "Explanation about **Transposing and reshaping a matrix** goes here."
   ]
  },
  {
   "cell_type": "code",
   "execution_count": null,
   "id": "55099f5f",
   "metadata": {},
   "outputs": [],
   "source": [
    "# Example code for: Transposing and reshaping a matrix"
   ]
  },
  {
   "cell_type": "markdown",
   "id": "65cbf309",
   "metadata": {},
   "source": [
    "## How to reverse an array\n",
    "\n",
    "Explanation about **How to reverse an array** goes here."
   ]
  },
  {
   "cell_type": "code",
   "execution_count": null,
   "id": "4984474b",
   "metadata": {},
   "outputs": [],
   "source": [
    "# Example code for: How to reverse an array"
   ]
  },
  {
   "cell_type": "markdown",
   "id": "14d71dd2",
   "metadata": {},
   "source": [
    "## Reshaping and flattening multidimensional arrays\n",
    "\n",
    "Explanation about **Reshaping and flattening multidimensional arrays** goes here."
   ]
  },
  {
   "cell_type": "code",
   "execution_count": null,
   "id": "8534eb16",
   "metadata": {},
   "outputs": [],
   "source": [
    "# Example code for: Reshaping and flattening multidimensional arrays"
   ]
  },
  {
   "cell_type": "markdown",
   "id": "e1b39ffc",
   "metadata": {},
   "source": [
    "## How to access the docstring for more information\n",
    "\n",
    "Explanation about **How to access the docstring for more information** goes here."
   ]
  },
  {
   "cell_type": "code",
   "execution_count": null,
   "id": "2ad1a96c",
   "metadata": {},
   "outputs": [],
   "source": [
    "# Example code for: How to access the docstring for more information"
   ]
  },
  {
   "cell_type": "markdown",
   "id": "0eb6dee3",
   "metadata": {},
   "source": [
    "## Working with mathematical formulas\n",
    "\n",
    "Explanation about **Working with mathematical formulas** goes here."
   ]
  },
  {
   "cell_type": "code",
   "execution_count": null,
   "id": "a1ab8a8c",
   "metadata": {},
   "outputs": [],
   "source": [
    "# Example code for: Working with mathematical formulas"
   ]
  },
  {
   "cell_type": "markdown",
   "id": "18745762",
   "metadata": {},
   "source": [
    "## How to save and load NumPy objects\n",
    "\n",
    "Explanation about **How to save and load NumPy objects** goes here."
   ]
  },
  {
   "cell_type": "code",
   "execution_count": null,
   "id": "548bd0cf",
   "metadata": {},
   "outputs": [],
   "source": [
    "# Example code for: How to save and load NumPy objects"
   ]
  },
  {
   "cell_type": "markdown",
   "id": "4dbd912a",
   "metadata": {},
   "source": [
    "## Importing and exporting a CSV\n",
    "\n",
    "Explanation about **Importing and exporting a CSV** goes here."
   ]
  },
  {
   "cell_type": "code",
   "execution_count": null,
   "id": "4cf97e7e",
   "metadata": {},
   "outputs": [],
   "source": [
    "# Example code for: Importing and exporting a CSV"
   ]
  },
  {
   "cell_type": "markdown",
   "id": "01e55bbe",
   "metadata": {},
   "source": [
    "## Plotting arrays with Matplotlib\n",
    "\n",
    "Explanation about **Plotting arrays with Matplotlib** goes here."
   ]
  },
  {
   "cell_type": "code",
   "execution_count": null,
   "id": "477a3e46",
   "metadata": {},
   "outputs": [],
   "source": [
    "# Example code for: Plotting arrays with Matplotlib"
   ]
  }
 ],
 "metadata": {
  "kernelspec": {
   "display_name": "Python 3 (ipykernel)",
   "language": "python",
   "name": "python3"
  },
  "language_info": {
   "codemirror_mode": {
    "name": "ipython",
    "version": 3
   },
   "file_extension": ".py",
   "mimetype": "text/x-python",
   "name": "python",
   "nbconvert_exporter": "python",
   "pygments_lexer": "ipython3",
   "version": "3.12.7"
  }
 },
 "nbformat": 4,
 "nbformat_minor": 5
}
