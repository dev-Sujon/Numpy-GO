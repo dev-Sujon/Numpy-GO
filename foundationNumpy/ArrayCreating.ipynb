{
 "cells": [
  {
   "cell_type": "markdown",
   "id": "545e042e-51e9-421e-8c2d-e0190b80b378",
   "metadata": {},
   "source": [
    "# 📘 Introduction to NumPy"
   ]
  },
  {
   "cell_type": "markdown",
   "id": "58225afd-aaee-47e8-80dc-1ef5c641cdb9",
   "metadata": {},
   "source": [
    "## 🔢 What is NumPy?\n",
    "\n",
    "NumPy (Numerical Python) is a fundamental package for scientific computing in Python. It provides:\n",
    "\n",
    "    A powerful N-dimensional array object.\n",
    "\n",
    "    Tools for integrating C/C++ and Fortran code.\n",
    "\n",
    "    Useful linear algebra, Fourier transform, and random number capabilities."
   ]
  },
  {
   "cell_type": "markdown",
   "id": "0759aca2-2b10-4a74-8a87-0ecdc6f5d49d",
   "metadata": {},
   "source": [
    "## ✅ Why Use NumPy?\n",
    "\n",
    "    Faster and more memory-efficient than Python lists.\n",
    "\n",
    "    Offers vectorization: operations on whole arrays without Python loops.\n",
    "\n",
    "    Ideal for data science, machine learning, image processing, and scientific computing."
   ]
  },
  {
   "cell_type": "markdown",
   "id": "2db0ac60-ba70-4d75-8a29-98b12a2cf96c",
   "metadata": {},
   "source": [
    "| Feature       | Description                                                     |\n",
    "| ------------- | --------------------------------------------------------------- |\n",
    "| `ndarray`     | Efficient multi-dimensional array object                        |\n",
    "| Broadcasting  | Perform arithmetic on arrays of different shapes                |\n",
    "| Vectorization | Fast operations without loops                                   |\n",
    "| Integration   | Easily integrates with C/C++, Fortran, pandas, matplotlib, etc. |\n"
   ]
  },
  {
   "cell_type": "code",
   "execution_count": 1,
   "id": "4a174daa-9ab8-4c5b-87a5-3fb181f3f7de",
   "metadata": {},
   "outputs": [],
   "source": [
    "# Load libraries\n",
    "import numpy as np\n",
    "import pandas as pd"
   ]
  },
  {
   "cell_type": "code",
   "execution_count": null,
   "id": "7e92fca6-915a-47f7-8b3d-8ca0c530e78b",
   "metadata": {},
   "outputs": [],
   "source": []
  },
  {
   "cell_type": "code",
   "execution_count": 2,
   "id": "c30513c8-61f5-4788-b9f8-e4849398794f",
   "metadata": {},
   "outputs": [],
   "source": [
    "df = pd.read_csv('../../Numpy-GO/Dataset/CardioGoodFitness.csv')\n"
   ]
  },
  {
   "cell_type": "code",
   "execution_count": 3,
   "id": "1e582e4a-2a33-4cc0-9be8-e0fea3f34d5f",
   "metadata": {},
   "outputs": [
    {
     "data": {
      "text/html": [
       "<div>\n",
       "<style scoped>\n",
       "    .dataframe tbody tr th:only-of-type {\n",
       "        vertical-align: middle;\n",
       "    }\n",
       "\n",
       "    .dataframe tbody tr th {\n",
       "        vertical-align: top;\n",
       "    }\n",
       "\n",
       "    .dataframe thead th {\n",
       "        text-align: right;\n",
       "    }\n",
       "</style>\n",
       "<table border=\"1\" class=\"dataframe\">\n",
       "  <thead>\n",
       "    <tr style=\"text-align: right;\">\n",
       "      <th></th>\n",
       "      <th>Product</th>\n",
       "      <th>Age</th>\n",
       "      <th>Gender</th>\n",
       "      <th>Education</th>\n",
       "      <th>MaritalStatus</th>\n",
       "      <th>Usage</th>\n",
       "      <th>Fitness</th>\n",
       "      <th>Income</th>\n",
       "      <th>Miles</th>\n",
       "    </tr>\n",
       "  </thead>\n",
       "  <tbody>\n",
       "    <tr>\n",
       "      <th>126</th>\n",
       "      <td>TM498</td>\n",
       "      <td>34</td>\n",
       "      <td>Male</td>\n",
       "      <td>16</td>\n",
       "      <td>Partnered</td>\n",
       "      <td>3</td>\n",
       "      <td>4</td>\n",
       "      <td>59124</td>\n",
       "      <td>85</td>\n",
       "    </tr>\n",
       "    <tr>\n",
       "      <th>72</th>\n",
       "      <td>TM195</td>\n",
       "      <td>39</td>\n",
       "      <td>Male</td>\n",
       "      <td>16</td>\n",
       "      <td>Partnered</td>\n",
       "      <td>4</td>\n",
       "      <td>4</td>\n",
       "      <td>59124</td>\n",
       "      <td>132</td>\n",
       "    </tr>\n",
       "    <tr>\n",
       "      <th>52</th>\n",
       "      <td>TM195</td>\n",
       "      <td>29</td>\n",
       "      <td>Female</td>\n",
       "      <td>16</td>\n",
       "      <td>Partnered</td>\n",
       "      <td>4</td>\n",
       "      <td>3</td>\n",
       "      <td>50028</td>\n",
       "      <td>94</td>\n",
       "    </tr>\n",
       "    <tr>\n",
       "      <th>64</th>\n",
       "      <td>TM195</td>\n",
       "      <td>35</td>\n",
       "      <td>Female</td>\n",
       "      <td>16</td>\n",
       "      <td>Partnered</td>\n",
       "      <td>3</td>\n",
       "      <td>3</td>\n",
       "      <td>60261</td>\n",
       "      <td>94</td>\n",
       "    </tr>\n",
       "    <tr>\n",
       "      <th>176</th>\n",
       "      <td>TM798</td>\n",
       "      <td>42</td>\n",
       "      <td>Male</td>\n",
       "      <td>18</td>\n",
       "      <td>Single</td>\n",
       "      <td>5</td>\n",
       "      <td>4</td>\n",
       "      <td>89641</td>\n",
       "      <td>200</td>\n",
       "    </tr>\n",
       "  </tbody>\n",
       "</table>\n",
       "</div>"
      ],
      "text/plain": [
       "    Product  Age  Gender  Education MaritalStatus  Usage  Fitness  Income  \\\n",
       "126   TM498   34    Male         16     Partnered      3        4   59124   \n",
       "72    TM195   39    Male         16     Partnered      4        4   59124   \n",
       "52    TM195   29  Female         16     Partnered      4        3   50028   \n",
       "64    TM195   35  Female         16     Partnered      3        3   60261   \n",
       "176   TM798   42    Male         18        Single      5        4   89641   \n",
       "\n",
       "     Miles  \n",
       "126     85  \n",
       "72     132  \n",
       "52      94  \n",
       "64      94  \n",
       "176    200  "
      ]
     },
     "execution_count": 3,
     "metadata": {},
     "output_type": "execute_result"
    }
   ],
   "source": [
    "df.sample(5).copy()"
   ]
  },
  {
   "cell_type": "code",
   "execution_count": 4,
   "id": "32b5898d-d2cb-410d-8ff5-d0ad933d2e02",
   "metadata": {},
   "outputs": [
    {
     "data": {
      "text/plain": [
       "array([ 1,  2,  3,  5, 42,  5, 16, 51, 61,  2])"
      ]
     },
     "execution_count": 4,
     "metadata": {},
     "output_type": "execute_result"
    }
   ],
   "source": [
    "arr = [1,2,3,5,42,5,16,51,61,2]\n",
    "nparr = np.array(arr)\n",
    "nparr"
   ]
  },
  {
   "cell_type": "code",
   "execution_count": 5,
   "id": "bdde4f8f-7f40-4742-8429-ade4d065a597",
   "metadata": {},
   "outputs": [
    {
     "data": {
      "text/plain": [
       "[1, 2, 3, 5, 42, 5, 16, 51, 61, 2]"
      ]
     },
     "execution_count": 5,
     "metadata": {},
     "output_type": "execute_result"
    }
   ],
   "source": [
    "arr"
   ]
  },
  {
   "cell_type": "code",
   "execution_count": 6,
   "id": "c954cfd2-a729-4a9c-a615-22472f0524d8",
   "metadata": {},
   "outputs": [
    {
     "name": "stdout",
     "output_type": "stream",
     "text": [
      "1.26.4\n"
     ]
    }
   ],
   "source": [
    "## checking Numpy Version\n",
    "print(np.__version__)"
   ]
  },
  {
   "cell_type": "code",
   "execution_count": 7,
   "id": "ed89c12d-9238-42ab-9392-26163bb30dc9",
   "metadata": {},
   "outputs": [
    {
     "data": {
      "text/plain": [
       "array([[1, 2],\n",
       "       [3, 4]])"
      ]
     },
     "execution_count": 7,
     "metadata": {},
     "output_type": "execute_result"
    }
   ],
   "source": [
    "# creating dimension array from normal array \n",
    "arr1 = np.array([1, 2, 3])          # 1D array\n",
    "arr2 = np.array([[1, 2], [3, 4]])   # 2D array\n",
    "arr2"
   ]
  },
  {
   "cell_type": "code",
   "execution_count": 8,
   "id": "8acfac4c-5d5f-4d8b-8033-7d2b94810bd1",
   "metadata": {},
   "outputs": [
    {
     "name": "stdout",
     "output_type": "stream",
     "text": [
      "(6,)\n",
      "shape of arr1:(6,)\n",
      "int32\n",
      "(2, 2)\n"
     ]
    }
   ],
   "source": [
    "# numpy array basics\n",
    "# Create a 1D array\n",
    "\n",
    "arr = [10,18,51,117,456,-14]\n",
    "arr1 = np.array(arr)\n",
    "\n",
    "# Create a 2D array\n",
    "arr2 = np.array([[1, 2], [3, 4]])\n",
    "\n",
    "# Check shape and type\n",
    "print(arr1.shape)     # (6,)\n",
    "print(f'shape of arr1:{arr1.shape}')\n",
    "arr1.dtype\n",
    "print(arr2.dtype)     # int64 (or int32 depending on system)\n",
    "print(arr2.shape)\n"
   ]
  },
  {
   "cell_type": "code",
   "execution_count": 9,
   "id": "6b2f4de7-b44d-4ba2-9afa-8474128a228c",
   "metadata": {},
   "outputs": [
    {
     "data": {
      "text/plain": [
       "array([[0., 0., 0.],\n",
       "       [0., 0., 0.]])"
      ]
     },
     "execution_count": 9,
     "metadata": {},
     "output_type": "execute_result"
    }
   ],
   "source": [
    "np.zeros(5)                # [0. 0. 0. 0. 0.]\n",
    "np.zeros((2, 3))           # 2x3 array of zeros\n"
   ]
  },
  {
   "cell_type": "markdown",
   "id": "2cdfce0e-e764-4ca8-99a9-f9df029ea3dd",
   "metadata": {},
   "source": [
    "### 📌 2. Creating Arrays from Python Lists or Tuples"
   ]
  },
  {
   "cell_type": "code",
   "execution_count": 10,
   "id": "72671461-3099-4d99-a2ce-081e6451dc3c",
   "metadata": {},
   "outputs": [],
   "source": [
    "arr1 = np.array([1, 2, 3])          # 1D array\n",
    "arr2 = np.array([[1, 2], [3, 4]])   # 2D array"
   ]
  },
  {
   "cell_type": "code",
   "execution_count": 11,
   "id": "ade4b431-9608-4f3d-90ef-d0c354c5ff04",
   "metadata": {},
   "outputs": [
    {
     "name": "stdout",
     "output_type": "stream",
     "text": [
      "Array of arr1:[1 2 3]\n",
      "Array of arr2:[[1 2]\n",
      " [3 4]]\n"
     ]
    }
   ],
   "source": [
    "print(f\"Array of arr1:{arr1}\")\n",
    "print(f\"Array of arr2:{arr2}\")"
   ]
  },
  {
   "cell_type": "markdown",
   "id": "58e7d839-a152-4c8b-aa73-65a9a9905f25",
   "metadata": {},
   "source": [
    "### Creating Array with initial"
   ]
  },
  {
   "cell_type": "code",
   "execution_count": 12,
   "id": "aa675445-c390-4a97-9771-91c8d0ba8147",
   "metadata": {},
   "outputs": [
    {
     "data": {
      "text/plain": [
       "array([[[0., 0., 0., 0., 0.],\n",
       "        [0., 0., 0., 0., 0.]],\n",
       "\n",
       "       [[0., 0., 0., 0., 0.],\n",
       "        [0., 0., 0., 0., 0.]],\n",
       "\n",
       "       [[0., 0., 0., 0., 0.],\n",
       "        [0., 0., 0., 0., 0.]]])"
      ]
     },
     "execution_count": 12,
     "metadata": {},
     "output_type": "execute_result"
    }
   ],
   "source": [
    "############### zeros() ########################\n",
    "\n",
    "# np.zeros(start,stop,num) \n",
    "\n",
    "zeros = np.zeros(5)\n",
    "multi_zeros = np.zeros((3,2,5))\n",
    "multi_zeros"
   ]
  },
  {
   "cell_type": "code",
   "execution_count": 13,
   "id": "0fd2444c-206e-43f0-a1c9-220e796889e3",
   "metadata": {},
   "outputs": [
    {
     "data": {
      "text/plain": [
       "array([[1., 1.],\n",
       "       [1., 1.],\n",
       "       [1., 1.]])"
      ]
     },
     "execution_count": 13,
     "metadata": {},
     "output_type": "execute_result"
    }
   ],
   "source": [
    "####################### ones ############################\n",
    "np.ones(4)                 # [1. 1. 1. 1.]\n",
    "np.ones((3, 2))            # 3x2 array of ones\n"
   ]
  },
  {
   "cell_type": "code",
   "execution_count": 17,
   "id": "7359a51b-dc70-43cb-8957-26ca4211ba27",
   "metadata": {},
   "outputs": [
    {
     "data": {
      "text/plain": [
       "array([[70.2, 70.2, 70.2],\n",
       "       [70.2, 70.2, 70.2]])"
      ]
     },
     "execution_count": 17,
     "metadata": {},
     "output_type": "execute_result"
    }
   ],
   "source": [
    "######################## Full ################################\n",
    "np.full((2, 3), 70.2) "
   ]
  },
  {
   "cell_type": "markdown",
   "id": "cf0614bb-5884-49f5-bc70-23281e9792ba",
   "metadata": {},
   "source": [
    "### 📌 Creating Arrays with Ranges"
   ]
  },
  {
   "cell_type": "code",
   "execution_count": 18,
   "id": "6e2878bc-3463-48f7-aa3e-cc457b3c5387",
   "metadata": {},
   "outputs": [
    {
     "data": {
      "text/plain": [
       "array([0, 2, 4, 6, 8])"
      ]
     },
     "execution_count": 18,
     "metadata": {},
     "output_type": "execute_result"
    }
   ],
   "source": [
    "np.arange(0, 10, 2)        # [0 2 4 6 8]\n"
   ]
  },
  {
   "cell_type": "code",
   "execution_count": 19,
   "id": "c82bd597-1a6c-4b07-9ed2-1a9396338fb6",
   "metadata": {},
   "outputs": [
    {
     "data": {
      "text/plain": [
       "array([0.  , 0.25, 0.5 , 0.75, 1.  ])"
      ]
     },
     "execution_count": 19,
     "metadata": {},
     "output_type": "execute_result"
    }
   ],
   "source": [
    "np.linspace(0, 1, 5)       # [0.   0.25 0.5  0.75 1.  ]\n"
   ]
  },
  {
   "cell_type": "markdown",
   "id": "53bd4d7d-a5b2-473c-9dc5-de860d94b8aa",
   "metadata": {},
   "source": [
    "### 📌  Identity and Diagonal Matrices"
   ]
  },
  {
   "cell_type": "code",
   "execution_count": 24,
   "id": "a27a48c8-23fa-4f63-9285-f6220a360b13",
   "metadata": {},
   "outputs": [
    {
     "data": {
      "text/plain": [
       "array([[1., 0., 0.],\n",
       "       [0., 1., 0.],\n",
       "       [0., 0., 1.]])"
      ]
     },
     "execution_count": 24,
     "metadata": {},
     "output_type": "execute_result"
    }
   ],
   "source": [
    "np.eye(3)   # 3x3 identity matrix"
   ]
  },
  {
   "cell_type": "code",
   "execution_count": 23,
   "id": "b1de611e-218e-4707-b8b6-3e59533167e9",
   "metadata": {},
   "outputs": [
    {
     "data": {
      "text/plain": [
       "array([[1., 0., 0., 0.],\n",
       "       [0., 1., 0., 0.],\n",
       "       [0., 0., 1., 0.],\n",
       "       [0., 0., 0., 1.]])"
      ]
     },
     "execution_count": 23,
     "metadata": {},
     "output_type": "execute_result"
    }
   ],
   "source": [
    "np.identity(4)   # 4x4 identity matrix"
   ]
  },
  {
   "cell_type": "markdown",
   "id": "b289cd67-e63f-47e3-b64a-417390f592aa",
   "metadata": {},
   "source": [
    "### 📌  Random Arrays"
   ]
  },
  {
   "cell_type": "code",
   "execution_count": 29,
   "id": "faaa5cfd-ff67-4888-acf6-24ad2eaf0184",
   "metadata": {},
   "outputs": [
    {
     "data": {
      "text/plain": [
       "array([0.32076108, 0.56941228, 0.04006536])"
      ]
     },
     "execution_count": 29,
     "metadata": {},
     "output_type": "execute_result"
    }
   ],
   "source": [
    "np.random.rand(3)          # [0.12 0.84 0.33] (random)\n"
   ]
  },
  {
   "cell_type": "code",
   "execution_count": 30,
   "id": "4b9a4a79-d23d-4ee5-845e-44ed2394505c",
   "metadata": {},
   "outputs": [
    {
     "data": {
      "text/plain": [
       "array([[4, 2, 3],\n",
       "       [4, 1, 9]])"
      ]
     },
     "execution_count": 30,
     "metadata": {},
     "output_type": "execute_result"
    }
   ],
   "source": [
    "### with int value random array\n",
    "np.random.randint(1, 10, size=(2, 3)) "
   ]
  },
  {
   "cell_type": "markdown",
   "id": "92cdc871-a5c2-41af-bee8-42510204889a",
   "metadata": {},
   "source": [
    "### 📌 Empty Array (uninitialized)"
   ]
  },
  {
   "cell_type": "code",
   "execution_count": 31,
   "id": "7b566793-2794-4fb5-8a65-eb0e91fdaab5",
   "metadata": {},
   "outputs": [
    {
     "data": {
      "text/plain": [
       "array([[1., 1.],\n",
       "       [1., 1.]])"
      ]
     },
     "execution_count": 31,
     "metadata": {},
     "output_type": "execute_result"
    }
   ],
   "source": [
    "np.empty((2, 2))           # May contain random garbage values\n"
   ]
  },
  {
   "cell_type": "markdown",
   "id": "2da4a43e-704d-41ca-9b24-a084ede837ba",
   "metadata": {},
   "source": [
    "### 📌  Reshape and Data Type"
   ]
  },
  {
   "cell_type": "code",
   "execution_count": 32,
   "id": "ea30db70-0894-440d-88a9-9abfaa8777bb",
   "metadata": {},
   "outputs": [
    {
     "data": {
      "text/plain": [
       "array([[0, 1, 2],\n",
       "       [3, 4, 5]])"
      ]
     },
     "execution_count": 32,
     "metadata": {},
     "output_type": "execute_result"
    }
   ],
   "source": [
    "arr = np.arange(6)         # [0 1 2 3 4 5]\n",
    "arr.reshape((2, 3))        # [[0 1 2]\n",
    "                           #  [3 4 5]]\n"
   ]
  },
  {
   "cell_type": "code",
   "execution_count": 33,
   "id": "d4b9844c-ecc4-489d-9bc8-d59d2f5f4251",
   "metadata": {},
   "outputs": [
    {
     "data": {
      "text/plain": [
       "array([1., 2., 3.])"
      ]
     },
     "execution_count": 33,
     "metadata": {},
     "output_type": "execute_result"
    }
   ],
   "source": [
    "np.array([1, 2, 3], dtype=float)   # [1. 2. 3.]\n"
   ]
  },
  {
   "cell_type": "markdown",
   "id": "103a2eb6-03b1-42e6-a38f-81eec7e2e16f",
   "metadata": {},
   "source": [
    "# 💡 Real-World Applications\n",
    "\n",
    "  1.  Zeros and ones: For initializing weights in ML models.\n",
    "\n",
    "  2.  arange, linspace: For time steps, mathematical functions, or graphing.\n",
    " \n",
    "  3.  Random arrays: Simulating data, bootstrapping, training/testing splits.\n",
    "\n",
    "  4.  reshape: Reformatting data for machine learning models."
   ]
  },
  {
   "cell_type": "markdown",
   "id": "2ea1db79-9610-4ca7-89d1-c42f60aafca5",
   "metadata": {},
   "source": [
    "# ✅ Summary Table\n",
    "| Function                  | Description                  |\n",
    "| ------------------------- | ---------------------------- |\n",
    "| `np.array()`              | Create array from list/tuple |\n",
    "| `np.zeros()`              | All elements zero            |\n",
    "| `np.ones()`               | All elements one             |\n",
    "| `np.full()`               | All elements custom value    |\n",
    "| `np.arange()`             | Range with step              |\n",
    "| `np.linspace()`           | Evenly spaced values         |\n",
    "| `np.eye()` / `identity()` | Identity matrix              |\n",
    "| `np.random.rand()`        | Random float numbers         |\n",
    "| `np.random.randint()`     | Random integers              |\n",
    "| `np.empty()`              | Uninitialized memory         |\n",
    "| `reshape()`               | Change shape of array        |\n"
   ]
  },
  {
   "cell_type": "code",
   "execution_count": null,
   "id": "af1cb6e5-23d1-4630-ad1d-7e4ffa090596",
   "metadata": {},
   "outputs": [],
   "source": []
  }
 ],
 "metadata": {
  "kernelspec": {
   "display_name": "Python 3 (ipykernel)",
   "language": "python",
   "name": "python3"
  },
  "language_info": {
   "codemirror_mode": {
    "name": "ipython",
    "version": 3
   },
   "file_extension": ".py",
   "mimetype": "text/x-python",
   "name": "python",
   "nbconvert_exporter": "python",
   "pygments_lexer": "ipython3",
   "version": "3.12.7"
  }
 },
 "nbformat": 4,
 "nbformat_minor": 5
}
